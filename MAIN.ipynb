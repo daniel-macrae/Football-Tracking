{
 "cells": [
  {
   "cell_type": "code",
   "execution_count": 24,
   "metadata": {},
   "outputs": [],
   "source": [
    "import numpy as np\n",
    "import cv2\n",
    "import pandas as pd\n",
    "import matplotlib.pyplot as plt\n",
    "import torch\n",
    "import torchvision\n",
    "import random\n",
    "import imageio\n",
    "from torchsummary import summary\n",
    "from src.MaskRCNN import MaskRCNN\n",
    "from src.objectTracking import get_colour, clustering, makeTrackers\n",
    "\n",
    "\n",
    "def people_only(labels, masks, boxes):\n",
    "    labels, masks, boxes = np.array(labels), np.array(masks), np.array(boxes)\n",
    "    people = np.where(labels == 'person', True, False)\n",
    "\n",
    "    labels = labels[people]\n",
    "    masks = masks[people]\n",
    "    boxes = boxes[people]\n",
    "\n",
    "    return labels, masks, boxes"
   ]
  },
  {
   "cell_type": "code",
   "execution_count": 30,
   "metadata": {},
   "outputs": [],
   "source": [
    "model = MaskRCNN() # load the Mask-R-CNN model\n",
    "\n",
    "v = cv2.VideoCapture('data\\Arsenal_goal.mp4') # video clip to run on\n",
    "ret, frame = v.read() # read first frame\n",
    "\n",
    "masks, boxes, labels= model.predict(frame, 0.7) # use the model to detect players on the first frame\n",
    "labels, masks, boxes = people_only(labels, masks, boxes) # remove non-person labels\n",
    "\n",
    "# Identify each player's team\n",
    "# obtain a vector representation of the most common colours in and around the player\n",
    "colour_vectors = get_colour(frame, masks, boxes, labels) \n",
    "labels = clustering(colour_vectors, k=2) # cluster those, obtain cluster index label\n",
    "\n",
    "multi_trackers, boxes = makeTrackers(boxes, frame)  # make multitrackers (cv2)"
   ]
  },
  {
   "cell_type": "code",
   "execution_count": 31,
   "metadata": {},
   "outputs": [],
   "source": [
    "# Functions to draw the outputs \n",
    "\n",
    "COLOURS = [[255,0,0], [0,255,0], [0,0,255]]\n",
    "\n",
    "def draw_classified_map(image, boxes, labels):\n",
    "    names = [\"ARS\", \"MUN\"]\n",
    "    team_labels = []\n",
    "\n",
    "    for i, label in enumerate(labels):\n",
    "        # apply a color mask to each object\n",
    "        x, y, h, w = boxes[i]\n",
    "        x1, y1, x2, y2 = int(x), int(y), int(x+h), int(y+w)\n",
    "\n",
    "        idx = int(label)\n",
    "        color = COLOURS[idx]    # CHANGE\n",
    "        team_labels.append(names[idx])\n",
    "        \n",
    "        # draw the bounding boxes around the objects\n",
    "        cv2.rectangle(image, (x1, y1), (x2, y2), color=color, \n",
    "                      thickness=2)\n",
    "        # put the label text above the objects\n",
    "        cv2.putText(image, names[idx], (x1, y1-10), \n",
    "                    cv2.FONT_HERSHEY_SIMPLEX, 1, color=color, \n",
    "                    thickness=2, lineType=cv2.LINE_AA)\n",
    "    return image, team_labels\n",
    "\n",
    "# (roughly) determine where the player is standing (needs work)\n",
    "def calculate_positions(boxes):\n",
    "    positions = []\n",
    "    for bb in boxes:\n",
    "        x, y, h, w = bb\n",
    "        xx = int(x + h/2)\n",
    "        yy = int(y + w)\n",
    "        positions.append([xx,yy])\n",
    "    return positions"
   ]
  },
  {
   "cell_type": "code",
   "execution_count": 32,
   "metadata": {},
   "outputs": [],
   "source": [
    "# draw the first frame\n",
    "result, team_labels = draw_classified_map(frame, boxes, labels)\n",
    "cv2.imshow(\"Frame\", result)\n",
    "\n",
    "# for saving the output\n",
    "framesize = (1080, 1920)\n",
    "saveVideo = True\n",
    "if saveVideo: \n",
    "    out = cv2.VideoWriter('output_video.mp4',cv2.VideoWriter_fourcc(*'MP4V'), 25, framesize)  # DOESN'T WORK :(\n",
    "    output_frames = []\n",
    "\n",
    "# loop through the remaining frames\n",
    "while True:\n",
    "    ret, frame = v.read()\n",
    "    if not ret:\n",
    "        break\n",
    "    (success, boxes) = multi_trackers.update(frame)\n",
    "    result, team_labels = draw_classified_map(frame, boxes, labels) # draw the BBs and labels\n",
    "\n",
    "    positions = calculate_positions(boxes) # determines the center-bottom of the BB\n",
    "    for pos in positions: # draw a circle to show those\n",
    "        result = cv2.circle(result, pos, radius=10, color=(0,0,255), thickness=2)\n",
    "\n",
    "    cv2.imshow(\"Frame\", result)\n",
    "\n",
    "    if saveVideo:\n",
    "        frame = cv2.cvtColor(result, cv2.COLOR_BGR2RGB)\n",
    "        output_frames.append(frame)\n",
    "\n",
    "   \n",
    "    key = cv2.waitKey(5) & 0xFF\n",
    "    if key == ord(\"q\"):\n",
    "        break\n",
    "out.release()\n",
    "\n",
    "cv2.destroyAllWindows()\n",
    "\n",
    "if saveVideo:\n",
    "    with imageio.get_writer(\"output_gif.gif\", mode=\"I\") as writer: # make a GIF output\n",
    "        for idx, frame in enumerate(output_frames):\n",
    "            #print(\"Adding frame to GIF file: \", idx + 1)\n",
    "            if idx%5==0: writer.append_data(frame)\n",
    "    \n",
    "    # FIX !!!\n",
    "    for fr in output_frames: \n",
    "        out.write(fr)\n",
    "    v.release() "
   ]
  },
  {
   "cell_type": "code",
   "execution_count": 19,
   "metadata": {},
   "outputs": [
    {
     "data": {
      "text/plain": [
       "(1080, 1920, 3)"
      ]
     },
     "execution_count": 19,
     "metadata": {},
     "output_type": "execute_result"
    }
   ],
   "source": [
    "frame.shape"
   ]
  },
  {
   "cell_type": "code",
   "execution_count": null,
   "metadata": {},
   "outputs": [],
   "source": []
  }
 ],
 "metadata": {
  "kernelspec": {
   "display_name": "Python 3",
   "language": "python",
   "name": "python3"
  },
  "language_info": {
   "codemirror_mode": {
    "name": "ipython",
    "version": 3
   },
   "file_extension": ".py",
   "mimetype": "text/x-python",
   "name": "python",
   "nbconvert_exporter": "python",
   "pygments_lexer": "ipython3",
   "version": "3.10.5"
  },
  "orig_nbformat": 4,
  "vscode": {
   "interpreter": {
    "hash": "0f2f6c680cf484319d387fabac80ca4ff4fc33965036e02100b3fe02600f1423"
   }
  }
 },
 "nbformat": 4,
 "nbformat_minor": 2
}
