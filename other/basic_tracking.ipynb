{
 "cells": [
  {
   "cell_type": "code",
   "execution_count": null,
   "metadata": {},
   "outputs": [],
   "source": [
    "import numpy as np\n",
    "import cv2\n",
    "import pandas as pd\n",
    "import matplotlib.pyplot as plt\n",
    "import torch\n",
    "import torchvision\n",
    "import random\n",
    "from torchsummary import summary"
   ]
  },
  {
   "attachments": {},
   "cell_type": "markdown",
   "metadata": {},
   "source": [
    "### set up the cv2 multitracking system"
   ]
  },
  {
   "cell_type": "code",
   "execution_count": null,
   "metadata": {},
   "outputs": [],
   "source": [
    "\n",
    "TrDict = {\n",
    "\t\"csrt\": cv2.legacy.TrackerCSRT_create,\n",
    "\t\"kcf\": cv2.TrackerKCF_create,\n",
    "\t\"boosting\": cv2.legacy.TrackerBoosting_create,\n",
    "\t\"mil\": cv2.TrackerMIL_create,\n",
    "\t\"tld\": cv2.legacy.TrackerTLD_create,\n",
    "\t\"medianflow\": cv2.legacy.TrackerMedianFlow_create,\n",
    "\t\"mosse\": cv2.legacy.TrackerMOSSE_create\n",
    "    }\n",
    "multi_trackers = cv2.legacy.MultiTracker_create()"
   ]
  },
  {
   "attachments": {},
   "cell_type": "markdown",
   "metadata": {},
   "source": [
    "### Select ROIs by hand"
   ]
  },
  {
   "cell_type": "code",
   "execution_count": null,
   "metadata": {},
   "outputs": [],
   "source": [
    "v = cv2.VideoCapture('data\\Arsenal_goal.mp4')\n",
    "multi_trackers = cv2.legacy.MultiTracker_create()\n",
    "ret, frame = v.read()\n",
    "frame1 = frame\n",
    "for i in range(1):\n",
    "    cv2.imshow(\"Frame\", frame)\n",
    "    bb_i = cv2.selectROI(\"Frame\", frame)\n",
    "    tracker_i = TrDict['csrt']()\n",
    "    multi_trackers.add(tracker_i, frame, bb_i)\n",
    "    print(bb_i)"
   ]
  },
  {
   "attachments": {},
   "cell_type": "markdown",
   "metadata": {},
   "source": [
    "### Track those through the rest of the footage"
   ]
  },
  {
   "cell_type": "code",
   "execution_count": null,
   "metadata": {},
   "outputs": [],
   "source": [
    "while True:\n",
    "    ret, frame = v.read()\n",
    "    if not ret:\n",
    "        break\n",
    "    (success, boxes) = multi_trackers.update(frame)\n",
    "    for box in boxes:\n",
    "        (x,y,w,h) = [int(a) for a in box]\n",
    "        cv2.rectangle(frame, (x,y), (x+w,y+h), (100, 255,0), 2)\n",
    "    cv2.imshow(\"Frame\", frame)\n",
    "    key = cv2.waitKey(5) & 0xFF\n",
    "    if key == ord(\"q\"):\n",
    "        break\n",
    "v.release()\n",
    "cv2.destroyAllWindows()"
   ]
  }
 ],
 "metadata": {
  "kernelspec": {
   "display_name": "Python 3",
   "language": "python",
   "name": "python3"
  },
  "language_info": {
   "name": "python",
   "version": "3.11.0 (main, Oct 24 2022, 18:26:48) [MSC v.1933 64 bit (AMD64)]"
  },
  "orig_nbformat": 4,
  "vscode": {
   "interpreter": {
    "hash": "b92c64ddd97bd75b75879c676e53789d19cf25aafb287fcc8a3273f02b13a1d2"
   }
  }
 },
 "nbformat": 4,
 "nbformat_minor": 2
}
